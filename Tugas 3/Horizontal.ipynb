{
 "cells": [
  {
   "cell_type": "code",
   "execution_count": 1,
   "metadata": {},
   "outputs": [],
   "source": [
    "import numpy as np\n",
    "import matplotlib.pyplot as plt\n",
    "from matplotlib.animation import FuncAnimation\n",
    "from celluloid import Camera"
   ]
  },
  {
   "cell_type": "code",
   "execution_count": 6,
   "metadata": {},
   "outputs": [],
   "source": [
    "# Inisialisasi parameter\n",
    "\n",
    "g=9.8\n",
    "m=60\n",
    "k=5\n",
    "deltat=0.1\n",
    "t = np.arange(0,50,deltat)\n",
    "damping= 5\n",
    "RestLength = 5\n",
    "elasticity = 0.9\n",
    "\n",
    "#Bola 1\n",
    "x1init=0\n",
    "y1init=100\n",
    "y1 = np.zeros(len(t))\n",
    "x1 = np.zeros(len(t))\n",
    "vx1 = np.zeros(len(t))\n",
    "vy1 = np.zeros(len(t))\n",
    "FSpringy1 = np.zeros(len(t))\n",
    "FDampingy1 = np.zeros(len(t))\n",
    "FTotaly1 = np.zeros(len(t))\n",
    "FSpringx1 = np.zeros(len(t))\n",
    "FDampingx1 = np.zeros(len(t))\n",
    "FTotalx1 = np.zeros(len(t))\n",
    "y1[0] = y1init\n",
    "x1[0] = x1init\n",
    "\n",
    "#Bola 2\n",
    "x2init=100\n",
    "y2init=100\n",
    "y2 = np.zeros(len(t))\n",
    "x2 = np.zeros(len(t))\n",
    "vx2 = np.zeros(len(t))\n",
    "vy2 = np.zeros(len(t))\n",
    "FSpringy2 = np.zeros(len(t))\n",
    "FDampingy2 = np.zeros(len(t))\n",
    "FTotaly2 = np.zeros(len(t))\n",
    "FSpringx2 = np.zeros(len(t))\n",
    "FDampingx2 = np.zeros(len(t))\n",
    "FTotalx2 = np.zeros(len(t))\n",
    "y2[0] = y2init\n",
    "x2[0] = x2init\n"
   ]
  },
  {
   "cell_type": "code",
   "execution_count": 7,
   "metadata": {},
   "outputs": [],
   "source": [
    "yover1 = np.zeros(len(t))\n",
    "yover2 = np.zeros(len(t))\n",
    "\n",
    "for n in range(0,len(t)-1):\n",
    "    SpringLength = np.sqrt((y1[n]-y2[n])**2+(x1[n]-x2[n])**2)\n",
    "    SpringDisplacement = SpringLength-RestLength\n",
    "    sin = (y2[n]-y1[n])/SpringLength\n",
    "    cos = (x2[n]-x1[n])/SpringLength\n",
    "\n",
    "    #Bola 1\n",
    "\n",
    "    FSpringy1[n]=k*SpringDisplacement*sin\n",
    "    FDampingy1[n]= damping*vy1[n]\n",
    "\n",
    "    FSpringx1[n]=k*SpringDisplacement*cos\n",
    "    FDampingx1[n]= damping*vx1[n]\n",
    "\n",
    "    #Bola 2\n",
    "\n",
    "    FSpringy2[n]=k*SpringDisplacement*sin\n",
    "    FDampingy2[n]= damping*vy2[n]\n",
    "\n",
    "    FSpringx2[n]=k*SpringDisplacement*cos\n",
    "    FDampingx2[n]= damping*vx2[n]\n",
    "\n",
    "    #gaya total bola 1 dan 2\n",
    "    #bola 1\n",
    "    FTotaly1[n]=FSpringy1[n]-m*g - FDampingy1[n] \n",
    "    FTotalx1[n]=FSpringx1[n] - FDampingx1[n] \n",
    "    #bola2\n",
    "    FTotaly2[n]=-FSpringy2[n]-m*g - FDampingy2[n]\n",
    "    FTotalx2[n]=-FSpringx2[n] - FDampingx2[n]\n",
    "\n",
    "    #Metode Euler \n",
    "    #Penerapan rule untuk mendapat posisi dan kecepatan baru\n",
    "    \n",
    "    #bola 1\n",
    "    if (y1[n] + vy1[n+1]*(t[n+1] - t[n])) > 0:\n",
    "        vy1[n+1] = vy1[n] + FTotaly1[n]/m*(t[n+1] - t[n])\n",
    "        y1[n+1] = y1[n] + vy1[n+1]*(t[n+1] - t[n])\n",
    "        vx1[n+1] = vx1[n] + FTotalx1[n]/m*(t[n+1] - t[n])\n",
    "        x1[n+1] = x1[n] + vx1[n+1]*(t[n+1] - t[n])\n",
    "    elif (vy1[n] + FTotaly1[n]/m*(t[n+1] - t[n])) > 0:\n",
    "        vy1[n+1] = vy1[n] + FTotaly1[n]/m*(t[n+1] - t[n])\n",
    "        y1[n+1] = y1[n] + vy1[n+1]*(t[n+1] - t[n])\n",
    "        vx1[n+1] = vx1[n] + FTotalx1[n]/m*(t[n+1] - t[n])\n",
    "        x1[n+1] = x1[n] + vx1[n+1]*(t[n+1] - t[n])\n",
    "    else:\n",
    "        vy1[n+1] = -elasticity*(vy1[n] + FTotaly1[n]/m*(t[n+1] - t[n]))\n",
    "        y1[n+1]= -(y1[n] + vy1[n+1]*(t[n+1] - t[n]))\n",
    "        vx1[n+1] = (vx1[n] + FTotalx1[n]/m*(t[n+1] - t[n]))\n",
    "        x1[n+1] = x1[n] + vx1[n+1]*(t[n+1] - t[n])\n",
    "    \n",
    "    #bola 2\n",
    "    if (y2[n] + vy2[n+1]*(t[n+1] - t[n])) > 0:\n",
    "        vy2[n+1] = vy2[n] + FTotaly2[n]/m*(t[n+1] - t[n])\n",
    "        y2[n+1] = y2[n] + vy2[n+1]*(t[n+1] - t[n])\n",
    "        vx2[n+1] = vx2[n] + FTotalx2[n]/m*(t[n+1] - t[n])\n",
    "        x2[n+1] = x2[n] + vx2[n+1]*(t[n+1] - t[n])\n",
    "    elif (vy2[n] + FTotaly2[n]/m*(t[n+1] - t[n])) > 0:\n",
    "        vy2[n+1] = vy2[n] + FTotaly2[n]/m*(t[n+1] - t[n])\n",
    "        y2[n+1] = y2[n] + vy2[n+1]*(t[n+1] - t[n])\n",
    "        vx2[n+1] = vx2[n] + FTotalx2[n]/m*(t[n+1] - t[n])\n",
    "        x2[n+1] = x2[n] + vx2[n+1]*(t[n+1] - t[n])\n",
    "    else:\n",
    "        vy2[n+1] = -elasticity*(vy2[n] + FTotaly2[n]/m*(t[n+1] - t[n]))  \n",
    "        y2[n+1] = -(y2[n] + vy2[n+1]*(t[n+1] - t[n]))\n",
    "        vx2[n+1] = (vx2[n] + FTotalx2[n]/m*(t[n+1] - t[n]))\n",
    "        x2[n+1] = x2[n] + vx2[n+1]*(t[n+1] - t[n])\n",
    "    "
   ]
  },
  {
   "cell_type": "code",
   "execution_count": 14,
   "metadata": {},
   "outputs": [
    {
     "data": {
      "image/png": "[encoded data removed]",
      "text/plain": [
       "<Figure size 432x288 with 1 Axes>"
      ]
     },
     "metadata": {
      "needs_background": "light"
     },
     "output_type": "display_data"
    }
   ],
   "source": [
    "fig = plt.figure()\n",
    "camera = Camera(fig)\n",
    "previoussecs = int(5/deltat)\n",
    "for i in range(0,len(t)):\n",
    "    plt.plot(x1[i],y1[i], 'o',color='green',linewidth=100,markersize = 15)\n",
    "    plt.plot(x2[i],y2[i], 'o',color='blue',linewidth=10,markersize = 15)\n",
    "    if np.sqrt((x1[i]-x2[i])**2+(y1[i]-y2[i])**2) < RestLength:\n",
    "       plt.plot([x2[i],x1[i]],[y2[i],y1[i]], color='red')\n",
    "    else:\n",
    "        plt.plot([x2[i],x1[i]],[y2[i],y1[i]], ':', color='black')\n",
    "        \n",
    "    camera.snap()\n",
    "animation = camera.animate()\n",
    "animation.save('Simulasi1.mp4', writer='ffmpeg',fps=60,dpi=300)"
   ]
  },
  {
   "cell_type": "code",
   "execution_count": 13,
   "metadata": {},
   "outputs": [
    {
     "data": {
      "text/plain": [
       "Text(0.5, 1.0, 'Posisi bola terhadap waktu')"
      ]
     },
     "execution_count": 13,
     "metadata": {},
     "output_type": "execute_result"
    },
    {
     "data": {
      "image/png": "[encoded data removed]",
      "text/plain": [
       "<Figure size 432x288 with 1 Axes>"
      ]
     },
     "metadata": {
      "needs_background": "light"
     },
     "output_type": "display_data"
    }
   ],
   "source": [
    "plt.plot(x1,y1)\n",
    "plt.plot(x2,y2)\n",
    "plt.title('Posisi bola terhadap waktu')"
   ]
  },
  {
   "cell_type": "code",
   "execution_count": null,
   "metadata": {},
   "outputs": [],
   "source": []
  }
 ],
 "metadata": {
  "kernelspec": {
   "display_name": "Python 3",
   "language": "python",
   "name": "python3"
  },
  "language_info": {
   "codemirror_mode": {
    "name": "ipython",
    "version": 3
   },
   "file_extension": ".py",
   "mimetype": "text/x-python",
   "name": "python",
   "nbconvert_exporter": "python",
   "pygments_lexer": "ipython3",
   "version": "3.8.3"
  }
 },
 "nbformat": 4,
 "nbformat_minor": 4
}
