{
 "cells": [
  {
   "cell_type": "code",
   "execution_count": 76,
   "metadata": {},
   "outputs": [],
   "source": [
    "import numpy as np\n",
    "import pandas as pd\n",
    "from scipy.signal import argrelextrema\n",
    "import matplotlib.pyplot as plt"
   ]
  },
  {
   "cell_type": "code",
   "execution_count": 88,
   "metadata": {},
   "outputs": [],
   "source": [
    "data1 = pd.read_table('tugas_w01.data', delim_whitespace=True,names=['x1','y1'])\n",
    "data2 = pd.read_table('tugas_w01_v2.data', delim_whitespace=True,names=['x2','y2'])"
   ]
  },
  {
   "cell_type": "code",
   "execution_count": 89,
   "metadata": {},
   "outputs": [
    {
     "name": "stdout",
     "output_type": "stream",
     "text": [
      "    x1        y1\n",
      "0  -90  7.290000\n",
      "1  -88  6.439329\n",
      "2  -86  5.618996\n",
      "3  -84  4.828518\n",
      "4  -82  4.067412\n",
      "..  ..       ...\n",
      "86  82 -6.619412\n",
      "87  84 -6.716518\n",
      "88  86 -6.826996\n",
      "89  88 -6.951329\n",
      "90  90 -7.090000\n",
      "\n",
      "[91 rows x 2 columns]\n",
      "      x2         y2\n",
      "0   -166   4.476567\n",
      "1   -164   4.552489\n",
      "2   -162   4.664126\n",
      "3   -160   4.811143\n",
      "4   -158   4.993164\n",
      "..   ...        ...\n",
      "164  162 -20.722263\n",
      "165  164 -21.657803\n",
      "166  166 -22.625038\n",
      "167  168 -23.624408\n",
      "168  170 -24.656352\n",
      "\n",
      "[169 rows x 2 columns]\n"
     ]
    }
   ],
   "source": [
    "print(data1)\n",
    "print(data2)"
   ]
  },
  {
   "cell_type": "code",
   "execution_count": 90,
   "metadata": {},
   "outputs": [],
   "source": [
    "x1 = data1['x1']\n",
    "y1 = data1['y1']\n",
    "x2 = data2['x2']\n",
    "y2 = data2['y2']"
   ]
  },
  {
   "cell_type": "code",
   "execution_count": 91,
   "metadata": {},
   "outputs": [],
   "source": [
    "datax1 = x1.values.tolist()\n",
    "datay1 = y1.values.tolist()\n",
    "datax2 = x2.values.tolist()\n",
    "datay2 = y2.values.tolist()"
   ]
  },
  {
   "cell_type": "code",
   "execution_count": 92,
   "metadata": {},
   "outputs": [],
   "source": [
    "dtx1 = np.array(datax1)\n",
    "dty1 = np.array(datay1,dtype=np.float)\n",
    "dtx2 = np.array(datax2)\n",
    "dty2 = np.array(datay2,dtype=np.float)"
   ]
  },
  {
   "cell_type": "code",
   "execution_count": 106,
   "metadata": {},
   "outputs": [],
   "source": [
    "maxm1 = argrelextrema(dty1, np.greater)[0]\n",
    "minm1 = argrelextrema(dty1, np.less,)[0]\n",
    "maxm2 = argrelextrema(dty2, np.greater)[0]\n",
    "minm2 = argrelextrema(dty2, np.less)[0]"
   ]
  },
  {
   "cell_type": "code",
   "execution_count": 107,
   "metadata": {},
   "outputs": [
    {
     "name": "stdout",
     "output_type": "stream",
     "text": [
      "(91,)\n",
      "(91,)\n"
     ]
    }
   ],
   "source": [
    "#print(dtx1)\n",
    "#print(dty1)\n",
    "print(dtx1.shape)\n",
    "print(dty1.shape)"
   ]
  },
  {
   "cell_type": "code",
   "execution_count": 110,
   "metadata": {},
   "outputs": [
    {
     "data": {
      "image/png": "[encoded data removed]",
      "text/plain": [
       "<Figure size 432x288 with 1 Axes>"
      ]
     },
     "metadata": {
      "needs_background": "light"
     },
     "output_type": "display_data"
    }
   ],
   "source": [
    "plt.plot(dtx1,dty1)\n",
    "plt.plot(dtx1[maxm1],dty1[maxm1],\"x\")\n",
    "plt.plot(dty1[minm1],dty1[minm1],\"*\")\n",
    "plt.show()"
   ]
  },
  {
   "cell_type": "code",
   "execution_count": 111,
   "metadata": {
    "scrolled": true
   },
   "outputs": [
    {
     "data": {
      "image/png": "[encoded data removed]",
      "text/plain": [
       "<Figure size 432x288 with 1 Axes>"
      ]
     },
     "metadata": {
      "needs_background": "light"
     },
     "output_type": "display_data"
    }
   ],
   "source": [
    "plt.plot(dtx2,dty2)\n",
    "plt.plot(dtx2[maxm2],dty2[maxm2],\"x\")\n",
    "plt.plot(dty2[minm2],dty2[minm2],\"*\")\n",
    "plt.show()"
   ]
  },
  {
   "cell_type": "code",
   "execution_count": null,
   "metadata": {},
   "outputs": [],
   "source": []
  },
  {
   "cell_type": "code",
   "execution_count": null,
   "metadata": {},
   "outputs": [],
   "source": []
  },
  {
   "cell_type": "code",
   "execution_count": null,
   "metadata": {},
   "outputs": [],
   "source": []
  }
 ],
 "metadata": {
  "kernelspec": {
   "display_name": "Python 3",
   "language": "python",
   "name": "python3"
  },
  "language_info": {
   "codemirror_mode": {
    "name": "ipython",
    "version": 3
   },
   "file_extension": ".py",
   "mimetype": "text/x-python",
   "name": "python",
   "nbconvert_exporter": "python",
   "pygments_lexer": "ipython3",
   "version": "3.8.3"
  }
 },
 "nbformat": 4,
 "nbformat_minor": 4
}
